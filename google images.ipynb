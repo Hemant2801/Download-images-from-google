{
 "cells": [
  {
   "cell_type": "code",
   "execution_count": null,
   "id": "fc3bf97c",
   "metadata": {},
   "outputs": [],
   "source": [
    "!pip install simple_image_download"
   ]
  },
  {
   "cell_type": "code",
   "execution_count": null,
   "id": "c690f60f",
   "metadata": {},
   "outputs": [],
   "source": [
    "from simple_image_download import simple_image_download as simp\n",
    "response = simp.simple_image_download"
   ]
  },
  {
   "cell_type": "code",
   "execution_count": null,
   "id": "d7db1b96",
   "metadata": {},
   "outputs": [],
   "source": [
    "i = 'cookie'\n",
    "response().download(i, 30)"
   ]
  },
  {
   "cell_type": "code",
   "execution_count": null,
   "id": "22f38488",
   "metadata": {},
   "outputs": [],
   "source": []
  }
 ],
 "metadata": {
  "kernelspec": {
   "display_name": "Python 3 (ipykernel)",
   "language": "python",
   "name": "python3"
  },
  "language_info": {
   "codemirror_mode": {
    "name": "ipython",
    "version": 3
   },
   "file_extension": ".py",
   "mimetype": "text/x-python",
   "name": "python",
   "nbconvert_exporter": "python",
   "pygments_lexer": "ipython3",
   "version": "3.8.8"
  }
 },
 "nbformat": 4,
 "nbformat_minor": 5
}
